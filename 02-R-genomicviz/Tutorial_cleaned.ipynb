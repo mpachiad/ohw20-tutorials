{
 "cells": [
  {
   "cell_type": "markdown",
   "metadata": {},
   "source": [
    "# Plotting omics data"
   ]
  },
  {
   "cell_type": "code",
   "execution_count": null,
   "metadata": {},
   "outputs": [],
   "source": [
    "#Load packages\n",
    "\n",
    "library(tidyverse)\n",
    "library(plotly)\n",
    "library(vegan)\n",
    "library(RColorBrewer)\n",
    "library(readxl)\n",
    "\n",
    "#ignore warnings ;)\n"
   ]
  },
  {
   "cell_type": "code",
   "execution_count": null,
   "metadata": {},
   "outputs": [],
   "source": [
    "#using one of the RColorBrewer can be convenient\n",
    "#you can see all offered combination\n",
    "display.brewer.all()"
   ]
  },
  {
   "cell_type": "code",
   "execution_count": null,
   "metadata": {},
   "outputs": [],
   "source": [
    "# and you can set palette you want\n",
    "palette(brewer.pal(n=12, name = \"Set3\"))"
   ]
  },
  {
   "cell_type": "markdown",
   "metadata": {},
   "source": [
    "\n",
    "## Dataset\n",
    "We will use the amplicon dataset of the bacterial communities of Cariaco Basin (off the coast of Venezuela) from [Suter et al. 2018](https://sfamjournals.onlinelibrary.wiley.com/doi/full/10.1111/1462-2920.13997)\n",
    "- The Cariaco Basin is a permanently stratified water column. The stratification has created an anoxic and euxinic deep water layer.\n",
    "- We sampled along the oxygen gradient from the upper oxic layer to bottom anoxic (Oxic -> Dysoxic -> Suboxic -> Anoxic ->Sulfidic->Euxinic) in two different time point (May and November of 2014)"
   ]
  },
  {
   "cell_type": "markdown",
   "metadata": {},
   "source": [
    "### Import and take a glance at the data"
   ]
  },
  {
   "cell_type": "code",
   "execution_count": null,
   "metadata": {},
   "outputs": [],
   "source": [
    "#Import the output table (after the analysis of sequences)\n",
    "cariaco_table <- read.delim(\"input_data/Cariaco_Bac_OTU.txt\", sep = \"\\t\")"
   ]
  },
  {
   "cell_type": "code",
   "execution_count": null,
   "metadata": {},
   "outputs": [],
   "source": [
    "#let's verify that it is there\n",
    "ls()"
   ]
  },
  {
   "cell_type": "code",
   "execution_count": null,
   "metadata": {},
   "outputs": [],
   "source": [
    "#observe the first rows\n",
    "head(cariaco_table)"
   ]
  },
  {
   "cell_type": "code",
   "execution_count": null,
   "metadata": {},
   "outputs": [],
   "source": [
    "#And the last rows\n",
    "tail(cariaco_table)"
   ]
  },
  {
   "cell_type": "code",
   "execution_count": null,
   "metadata": {},
   "outputs": [],
   "source": [
    "colSums(cariaco_table[,2:13]==0)"
   ]
  },
  {
   "cell_type": "code",
   "execution_count": null,
   "metadata": {},
   "outputs": [],
   "source": [
    "colSums(cariaco_table[,2:13]==0)/nrow(cariaco_table[,2:13])"
   ]
  },
  {
   "cell_type": "code",
   "execution_count": null,
   "metadata": {},
   "outputs": [],
   "source": [
    "#\"Rarecurve\" is a plot of the number of species (OTUs) as a function of the number of reads. Rarefaction curves generally grow rapidly at first, as the most common species are found, but the curves plateau as only the rarest species remain to be sampled\n",
    "#This function requires samples to be the row names and the \"species\" the columns for this reason we transpose the table\n",
    "rarecurve(t(cariaco_table[,2:13]),step=1000,col=1:12,xlab = \"Reads\",ylab = \"OTUs\",\n",
    "          lwd=4,cex.lab=0.8,xlim=c(0,1000000),label=F)\n",
    "legend(\"topright\",rownames(t(cariaco_table[,2:13])),col=1:12,\n",
    "       cex=0.6,lwd=4,horiz=F, bty=\"n\", inset = c(0, 0.2))"
   ]
  },
  {
   "cell_type": "code",
   "execution_count": null,
   "metadata": {},
   "outputs": [],
   "source": [
    "#Transform the table to long format with pivot_longer\n",
    "#We will also parse the sample headers. This will add information to our table that will come handy during plotting\n",
    "#Finally we will separate the taxonomy to it's different ranks (\"Kingdom\", \"Phylum\", \"Class\", \"Order\", \"Family\", \"Genus\", \"Species\")\n",
    "cariaco_long <- cariaco_table %>%\n",
    "  pivot_longer(cols = CarOxic_May_103:CarEux_Nov_900, names_to = \"Sample\", values_to = \"Count\") %>%\n",
    "  separate(Sample, c(\"Feature\", \"Month\", \"Depth\"), sep = \"_\", remove = FALSE) %>%\n",
    "  separate(taxonomy, c(\"Kingdom\", \"Phylum\", \"Class\", \"Order\", \"Family\", \"Genus\", \"Species\"), sep = \"; \", remove = FALSE) %>%\n",
    "  data.frame"
   ]
  },
  {
   "cell_type": "code",
   "execution_count": null,
   "metadata": {},
   "outputs": [],
   "source": [
    "head(cariaco_long)"
   ]
  },
  {
   "cell_type": "code",
   "execution_count": null,
   "metadata": {},
   "outputs": [],
   "source": [
    "dim(cariaco_table)\n",
    "dim(cariaco_long)"
   ]
  },
  {
   "cell_type": "code",
   "execution_count": null,
   "metadata": {},
   "outputs": [],
   "source": [
    "#check the summaries on the Kindgom level\n",
    "cariaco_long %>% group_by(Kingdom) %>% summarize (Total_counts=sum(Count))"
   ]
  },
  {
   "cell_type": "code",
   "execution_count": null,
   "metadata": {},
   "outputs": [],
   "source": [
    "#replace \"No blast hit\" with NA\n",
    "cariaco_long[cariaco_long ==\"No blast hit\" ] <- NA"
   ]
  },
  {
   "cell_type": "code",
   "execution_count": null,
   "metadata": {},
   "outputs": [],
   "source": [
    "# Summarize the counts to phylum level for each Sample; we will filter out the non-annotated\n",
    "phylum_sum <- cariaco_long %>%\n",
    "  filter(!is.na(Kingdom)) %>%\n",
    "  group_by(Sample, Feature,Month, Phylum) %>%\n",
    "  summarise(phylum_counts = sum(Count)) %>%\n",
    "  data.frame\n",
    "\n",
    "head(phylum_sum)"
   ]
  },
  {
   "cell_type": "code",
   "execution_count": null,
   "metadata": {},
   "outputs": [],
   "source": []
  },
  {
   "cell_type": "markdown",
   "metadata": {},
   "source": [
    "### Create barplots to start exploring the data \n",
    "For most of the plots we are going to use ggplot2. [Datacarpenty has a great tutorial](https://datacarpentry.org/R-ecology-lesson/04-visualization-ggplot2.html) on this package."
   ]
  },
  {
   "cell_type": "code",
   "execution_count": null,
   "metadata": {},
   "outputs": [],
   "source": [
    "ggplot(phylum_sum, aes(x = Sample, y = phylum_counts, fill = Phylum)) +\n",
    "  geom_bar(stat = \"identity\", position = \"stack\") + theme_bw()+\n",
    "  theme(axis.text.x = element_text(angle = 90))\n"
   ]
  },
  {
   "cell_type": "code",
   "execution_count": null,
   "metadata": {},
   "outputs": [],
   "source": [
    "ggplot(phylum_sum, aes(x = Feature, y = phylum_counts, fill = Phylum)) +\n",
    "  geom_bar(stat = \"identity\", position = \"stack\") + facet_grid(Month~.)+ theme_bw()+\n",
    "  theme(axis.text.x = element_text(angle = 90))"
   ]
  },
  {
   "cell_type": "code",
   "execution_count": null,
   "metadata": {},
   "outputs": [],
   "source": [
    "#there are too many phyla (thus too many colors) and as we can see from the plots we can only discern a handful\n",
    "#let's try using only \"top ten\" phyla\n",
    "\n",
    "phylum10<-cariaco_long %>%\n",
    "  group_by(Phylum) %>%\n",
    "  summarise(phylum_counts = sum(Count)) %>% top_n(10)"
   ]
  },
  {
   "cell_type": "code",
   "execution_count": null,
   "metadata": {},
   "outputs": [],
   "source": [
    "#and use the top ten hits to make the list that we are going to use for our selection\n",
    "phylum10_list<-phylum10$Phylum"
   ]
  },
  {
   "cell_type": "code",
   "execution_count": null,
   "metadata": {},
   "outputs": [],
   "source": [
    "phylum10_list"
   ]
  },
  {
   "cell_type": "code",
   "execution_count": null,
   "metadata": {},
   "outputs": [],
   "source": [
    "#filter the phylum_sum we created above to contain only the phyla found in the top 10 list\n",
    "phylum10_sum<-phylum_sum %>% filter(Phylum %in% phylum10_list)"
   ]
  },
  {
   "cell_type": "code",
   "execution_count": null,
   "metadata": {},
   "outputs": [],
   "source": [
    "ggplot(phylum10_sum, aes(x = Feature, y = phylum_counts, fill = Phylum)) +\n",
    "  geom_bar(stat = \"identity\", position = \"stack\") + facet_grid(Month~.)+ theme_bw()+\n",
    "  theme(axis.text.x = element_text(angle = 90), )"
   ]
  },
  {
   "cell_type": "code",
   "execution_count": null,
   "metadata": {},
   "outputs": [],
   "source": [
    "#write your own code\n",
    "#can check how many reads were excluded by only plotting the 10 more abundant phyla?"
   ]
  },
  {
   "cell_type": "code",
   "execution_count": null,
   "metadata": {},
   "outputs": [],
   "source": [
    "#order and rename the features\n",
    "#rename the axis\n",
    "#plot relative abundance\n",
    "ggplot(phylum10_sum, aes(x = Feature, y = phylum_counts, fill = Phylum)) +\n",
    "  scale_x_discrete(name =\"Oxygen Regime\", limits=c(\"CarOxic\", \"CarDysox\",\"CarSuboxic\",\"CarAnox\",\"CarSulf\", \"CarEux\"),   labels=c(\"Oxic\",  \"Dysoxic\", \"Suboxic\", \"Anoxic\", \"Sulfidic\", \"Euxinic\")) + labs(x='', y = \"Relative abundance\")+\n",
    "  geom_bar(stat = \"identity\", position = \"fill\") + facet_grid(Month~.)+ theme_bw()+\n",
    "  theme(axis.text.x = element_text(angle = 45,hjust = 1, vjust = 1), text = element_text(size = 18))\n"
   ]
  },
  {
   "cell_type": "code",
   "execution_count": null,
   "metadata": {},
   "outputs": [],
   "source": [
    "#write your own code\n",
    "# can you reverse axes (in order for the y axis to represent depth and go from Oxic (top od water column) to Euxinic (deepest))"
   ]
  },
  {
   "cell_type": "code",
   "execution_count": null,
   "metadata": {},
   "outputs": [],
   "source": [
    "#change the palette, just for fun\n",
    "ggplot(phylum10_sum, aes(x = Feature, y = phylum_counts, fill = Phylum)) +\n",
    "  scale_x_discrete(name =\"Oxygen Regime\", limits=c(\"CarOxic\", \"CarDysox\",\"CarSuboxic\",\"CarAnox\",\"CarSulf\", \"CarEux\"),   labels=c(\"Oxic\",  \"Dysoxic\", \"Suboxic\", \"Anoxic\", \"Sulfidic\", \"Euxinic\")) + labs(x='', y = \"Relative abundance\")+\n",
    "  geom_bar(stat = \"identity\", position = \"fill\") + scale_fill_brewer(palette = \"Set3\") +facet_grid(Month~.)+ theme_bw()+\n",
    "  theme(axis.text.x = element_text(angle = 45,hjust = 1, vjust = 1),text = element_text(size = 18))"
   ]
  },
  {
   "cell_type": "markdown",
   "metadata": {},
   "source": [
    "The relative abundance of Proteobacteria seems not to be changing much for the first 5 depths (corresponding to different depths, oxygen etc). Such dramatic changes in the environment should have caused the microbial communities to shift. But, Proteobacteria is a very diverse phylum so the changes with be obvious in the \"subgroups\" e.g. Class level. Let's explore this further, "
   ]
  },
  {
   "cell_type": "code",
   "execution_count": null,
   "metadata": {},
   "outputs": [],
   "source": [
    "# Summarize to phylum level, filter out the non-annotated, and select only Proteobacteria. Group by class\n",
    "class_sum <- cariaco_long %>%\n",
    "  filter(!is.na(Kingdom)& Phylum==\"Proteobacteria\") %>%\n",
    "  group_by(Sample, Feature,Month, Class) %>%\n",
    "  summarise(class_counts = sum(Count)) %>%\n",
    "  data.frame"
   ]
  },
  {
   "cell_type": "code",
   "execution_count": null,
   "metadata": {},
   "outputs": [],
   "source": [
    "ggplot(class_sum, aes(x = Feature, y = class_counts, fill = Class)) +\n",
    "  scale_x_discrete(name =\"Oxygen Regime\", limits=c(\"CarOxic\", \"CarDysox\",\"CarSuboxic\",\"CarAnox\",\"CarSulf\", \"CarEux\"),   labels=c(\"Oxic\",  \"Dysoxic\", \"Suboxic\", \"Anoxic\", \"Sulfidic\", \"Euxinic\")) + labs(x='', y = \"Relative abundance\")+\n",
    "  geom_bar(stat = \"identity\", position = \"fill\") + facet_grid(Month~.)+ theme_bw()+\n",
    "  theme(axis.text.x = element_text(angle = 45,hjust = 1, vjust = 1), text = element_text(size = 18))"
   ]
  },
  {
   "cell_type": "code",
   "execution_count": null,
   "metadata": {},
   "outputs": [],
   "source": []
  },
  {
   "cell_type": "markdown",
   "metadata": {},
   "source": [
    "## Ordinations\n",
    "Cluster analysis encompasses several multivariate techniques that are used to group objects into categories based on their dissimilarities. It is a commonly used method for revealing patterns (and investigate potential effects of environmental factors; see below).  \n",
    "There are several different methods (each with its own assumptions on the normality etc of the data). The biggest challenge of applying these methods in omics data is the presence of zeros.   \n",
    "We do not have time to discuss all these aspects but you can find more info in the excellent paper by [Ramette 2017](https://academic.oup.com/femsec/article/62/2/142/434668).\n",
    "Please also check Sarah's [excellent tutorial](https://academic.oup.com/femsec/article/62/2/142/434668)"
   ]
  },
  {
   "cell_type": "markdown",
   "metadata": {},
   "source": [
    "The data need [transformation](http://biol09.biol.umontreal.ca/PLcourses/Section_7.7_Transformations.pdf). One of the most commonly used transformations is helling. Log-ratio transformations are also used often. "
   ]
  },
  {
   "cell_type": "code",
   "execution_count": null,
   "metadata": {},
   "outputs": [],
   "source": [
    "#hellinger transformatipn\n",
    "carhell <- decostand (t(cariaco_table[,2:13]), method = 'hellinger')"
   ]
  },
  {
   "cell_type": "markdown",
   "metadata": {},
   "source": [
    "Principal Components Analysis"
   ]
  },
  {
   "cell_type": "code",
   "execution_count": null,
   "metadata": {},
   "outputs": [],
   "source": [
    "#PCA analysis\n",
    "#remember that you can use ?prcomp to check the command\n",
    "carhell_pca <- prcomp(carhell)\n",
    "class(carhell_pca)\n",
    "carhell_pca$sdev # Explore components of prcomp output"
   ]
  },
  {
   "cell_type": "code",
   "execution_count": null,
   "metadata": {},
   "outputs": [],
   "source": [
    "# Visual representation - screeplot\n",
    "# This is just a guide to help you decide on a 2-D vs 3-D analysis\n",
    "# Let's skip due to time constrains\n",
    "carhell_pca_variances <- as.data.frame(carhell_pca$sdev^2/sum(carhell_pca$sdev^2)) %>% #Extract axes\n",
    "# Format to plot\n",
    "select(Var = 'carhell_pca$sdev^2/sum(carhell_pca$sdev^2)') %>%\n",
    "rownames_to_column(var = \"PCaxis\") %>%\n",
    "  data.frame\n",
    "\n",
    "# Plot screeplot\n",
    "ggplot(carhell_pca_variances, aes(x = as.numeric(PCaxis), y = Var)) + \n",
    "  geom_bar(stat = \"identity\", fill = \"grey\", color = \"black\") +\n",
    "  theme_minimal() +\n",
    "  theme(axis.title = element_text(color = \"black\", face = \"bold\", size = 10),\n",
    "        axis.text.y = element_text(color = \"black\", face = \"bold\"),\n",
    "        axis.text.x = element_blank()) +\n",
    "  labs(x = \"PC axis\", y = \"Variance\", title = \"Hell PCA Screeplot\")"
   ]
  },
  {
   "cell_type": "code",
   "execution_count": null,
   "metadata": {},
   "outputs": [],
   "source": [
    "# To visualize the PCA, first make a dataframe of the data\n",
    "\n",
    "carhell_pca_out <- data.frame(carhell_pca$x) %>% \n",
    "  rownames_to_column(var=\"Name\") %>%\n",
    "  separate(Name, into =c(\"Feature\", \"Month\", \"Depth\")) %>%\n",
    "  data.frame\n",
    "head(carhell_pca_out)"
   ]
  },
  {
   "cell_type": "code",
   "execution_count": null,
   "metadata": {},
   "outputs": [],
   "source": [
    "ggplot(carhell_pca_out) +\n",
    "  geom_point(aes(x = PC1, y = PC2, fill=Feature), shape =21, size = 8) +\n",
    "  ylab(paste0('PC2 ', round(carhell_pca_variances[2,2]*100,2),'%')) + #Extract y axis value from variance\n",
    "  xlab(paste0('PC1 ', round(carhell_pca_variances[1,2]*100,2),'%')) + #Extract x axis value from variance\n",
    "  scale_fill_brewer(palette = 'Set3', name = 'Oxygen Regime') +  \n",
    "  ggtitle('Hellinger PCA Ordination') +\n",
    "  coord_fixed(ratio = 1) +\n",
    "  theme_bw()+theme(text = element_text(size = 18))"
   ]
  },
  {
   "cell_type": "code",
   "execution_count": null,
   "metadata": {},
   "outputs": [],
   "source": [
    "#fit the environmental factors\n",
    "#import metadata table\n",
    "metadata<-read.delim(\"input_data/Cariaco_metadata.txt\")\n",
    "\n",
    "#The function fits environmental vectors or factors onto an ordination. The projections of points onto vectors have maximum correlation with corresponding environmental variables, and the factors show the averages of factor levels.\n",
    "envfit(carhell_pca, metadata, na.rm = TRUE, permutations = 9999)"
   ]
  },
  {
   "cell_type": "code",
   "execution_count": null,
   "metadata": {},
   "outputs": [],
   "source": [
    "#covert to dataframe\n",
    "envfactors<-envfit(carhell_pca, metadata, na.rm = TRUE, permutations = 9999)\n",
    "en_coord_cont = as.data.frame(scores(envfactors, \"vectors\")) * ordiArrowMul(envfactors)\n",
    "\n",
    "#and choose only the significant factors to plot\n",
    "en_coord_cont%>%rownames_to_column()%>%filter(rowname==\"Depth\"|rowname ==\"H2S\") %>% column_to_rownames()->en_coord_cont_sign"
   ]
  },
  {
   "cell_type": "code",
   "execution_count": null,
   "metadata": {},
   "outputs": [],
   "source": [
    "ggplot(carhell_pca_out) +\n",
    "  geom_point(aes(x = PC1, y = PC2, fill = Feature), size = 8, shape = 21, color = \"black\") +\n",
    "  geom_segment(data=en_coord_cont_sign,aes(x=0,xend=PC1,y=0,yend=PC2),\n",
    "      arrow = arrow(length = unit(0.3, \"cm\")),colour=\"grey30\") + \n",
    "  geom_text(data=en_coord_cont_sign,aes(x=PC1,y=PC2, label= row.names(en_coord_cont_sign)),size=3, vjust=-0.5)+\n",
    "  ylab(paste0('PC2 ', round(carhell_pca_variances[2,2]*100,2),'%')) + #Extract y axis value from variance\n",
    "  xlab(paste0('PC1 ', round(carhell_pca_variances[1,2]*100,2),'%')) + #Extract x axis value from variance\n",
    "  scale_fill_brewer(palette = 'Spectral', name = 'Oxygen Regime', limits=c(\"CarOxic\", \"CarDysox\",\"CarSuboxic\",\"CarAnox\",\"CarSulf\", \"CarEux\"),   labels=c(\"Oxic\",  \"Dysoxic\", \"Suboxic\", \"Anoxic\", \"Sulfidic\", \"Euxinic\")) +\n",
    "  ggtitle('Hellinger PCA Ordination') +\n",
    "  coord_fixed() +\n",
    "  theme_bw()+ theme(text = element_text(size = 18))"
   ]
  },
  {
   "cell_type": "code",
   "execution_count": null,
   "metadata": {},
   "outputs": [],
   "source": [
    "#for the interest of time we worked with a small dataset (*small refers to the total number of samples)\n",
    "download.file(\"http://taraoceans.sb-roscoff.fr/EukDiv/data/Database_W5_OTU_occurences.tsv.zip\", \"/home/jovyan/ohw20-tutorials/02-R-genomicviz/input_data/Database_W5_OTU_occurences.tsv.zip\")\n",
    "\n",
    "unzip(\"input_data/Database_W5_OTU_occurences.tsv.zip\", exdir=\"input_data\")\n",
    "\n",
    "Tara_euk_OTU <- readr::read_tsv(\"input_data/Database_W5_OTU_occurences.tsv\")\n",
    "\n",
    "download.file('http://taraoceans.sb-roscoff.fr/EukDiv/data/Database_W1_Sample_parameters.xls', \"/home/jovyan/ohw20-tutorials/02-R-genomicviz/input_data/Database_W1_Sample_parameters.xls\")\n",
    "\n",
    "sample_info <- read_excel(\"input_data/Database_W1_Sample_parameters.xls\")"
   ]
  },
  {
   "cell_type": "code",
   "execution_count": null,
   "metadata": {},
   "outputs": [],
   "source": [
    "ls()\n"
   ]
  },
  {
   "cell_type": "markdown",
   "metadata": {},
   "source": [
    "## Heatmaps"
   ]
  },
  {
   "cell_type": "markdown",
   "metadata": {},
   "source": [
    "[Heatmaps](https://jcoliver.github.io/learn-r/006-heatmaps.html) can be used to visualize any type of data, including the OTU (or ASV) tables as the ones we used above. But for this example we will use a dataset from another [study](https://science.sciencemag.org/content/358/6366/1046), where we investigated the biogeography of genomes belonging to the functional group \"Nitrite-Oxidizing Bacteria\" (important components of the nitrogen and carbon cycles) in the mesopelagic."
   ]
  },
  {
   "cell_type": "code",
   "execution_count": null,
   "metadata": {},
   "outputs": [],
   "source": [
    "NOB_table<-read.delim(\"input_data/Tara_summary_table_pctid95_minlen100_overlap0.txt\")"
   ]
  },
  {
   "cell_type": "code",
   "execution_count": null,
   "metadata": {},
   "outputs": [],
   "source": [
    "head(NOB_table)"
   ]
  },
  {
   "cell_type": "code",
   "execution_count": null,
   "metadata": {},
   "outputs": [],
   "source": [
    "options(repr.plot.width = 20, repr.plot.height = 10, repr.plot.res = 300)\n",
    "ggplot(NOB_table, aes(metagenome, sag, fill= prop_total_MG_bp_recruited_per_SAG_mbp)) + \n",
    "  geom_tile()"
   ]
  },
  {
   "cell_type": "markdown",
   "metadata": {},
   "source": [
    "That looks awful for many more reasons that I have time to mention"
   ]
  },
  {
   "cell_type": "code",
   "execution_count": null,
   "metadata": {},
   "outputs": [],
   "source": [
    "#change the scale to logarithmic; change the colors (with reflect zeros; cold color for low abundance; warm color for high adundance )\n",
    "options(repr.plot.width = 20, repr.plot.height = 10, repr.plot.res = 300)\n",
    "ggplot(NOB_table, aes(metagenome, sag, fill= prop_total_MG_bp_recruited_per_SAG_mbp)) + \n",
    "  geom_tile()+scale_fill_gradientn(colours=c(\"white\",\"lightblue\",\"red\"), trans=\"log\", na.value=\"white\",breaks=c(0.00000001, 0.0000001,0.000001, 0.00001, 0.0001, 0.001, 0.01, 0.1, 1))+ theme_bw()+theme(legend.position = \"bottom\",legend.title = element_blank(),  legend.text = element_text(size = 10, angle = 45,hjust = 1, vjust = 1), axis.text.x = element_text(size = 10, angle = 45,hjust = 1, vjust = 1), axis.text.y = element_text(size = 12))"
   ]
  },
  {
   "cell_type": "markdown",
   "metadata": {},
   "source": [
    "That is a bit better but it still needs impovement; there is a pattern related to the origin of metagenomes"
   ]
  },
  {
   "cell_type": "code",
   "execution_count": null,
   "metadata": {},
   "outputs": [],
   "source": [
    "###write your own code; try to cluster (use Bray-curtis or any other similary index) both metagenomes and metatranscriptomes. Does the heatmap looks better?\n",
    "\n",
    "### I find that beautifying heatmas is extremely changing. Fortunately Dr. Julia Brown, wrote a script that creates beautiful plots https://github.com/juliambrosman/sag-mg-recruit/blob/master/smr_plotting_functions.R\n"
   ]
  },
  {
   "cell_type": "markdown",
   "metadata": {},
   "source": [
    "### Maps (the biologists way i.e. totally primitive)"
   ]
  },
  {
   "cell_type": "code",
   "execution_count": null,
   "metadata": {},
   "outputs": [],
   "source": [
    "#Load one more library for the map constuction\n",
    "library(maps)\n",
    "library(mapdata)"
   ]
  },
  {
   "cell_type": "code",
   "execution_count": null,
   "metadata": {},
   "outputs": [],
   "source": [
    "#Clean the abundance table to only keep one genome \"AG-538-K21\" for this example; ant its abundance in any of the metagenones investigated\n",
    "AG538K21abund<-NOB_table%>%filter(sag==\"AG-538-K21\")%>%\n",
    "  separate(metagenome, c(\"Expedition\", \"Station_number\", \"Depth\"), sep = \"_\", remove = FALSE)%>%\n",
    "  unite(\"Station\", Expedition:Station_number, remove = FALSE)\n",
    "\n",
    "AG538K21abund<-AG538K21abund[,c(\"sag\", \"Station\", \"prop_total_MG_bp_recruited_per_SAG_mbp\")]"
   ]
  },
  {
   "cell_type": "code",
   "execution_count": null,
   "metadata": {},
   "outputs": [],
   "source": [
    "#Use the sample info table we downloaded from Tara to get the coordinates of each metagenome\n",
    "sample_info_coord<-sample_info%>%select(Station=2, Lat=9, Lon=10)%>%distinct()%>%\n",
    "  group_by(Station)%>%filter(row_number()==1)"
   ]
  },
  {
   "cell_type": "code",
   "execution_count": null,
   "metadata": {},
   "outputs": [],
   "source": [
    "#merge the two table\n",
    "AG538K21abund_coord<-merge(AG538K21abund,sample_info_coord, by.x=\"Station\")"
   ]
  },
  {
   "cell_type": "code",
   "execution_count": null,
   "metadata": {},
   "outputs": [],
   "source": [
    "#I like to make my own colors and this is another way to do it. I need one of them to be transparent\n",
    "red_custom <- rgb(255, 33, 33, max = 255, alpha = 255, names = \"red_custom\")\n",
    "red_custom_t <- rgb(255, 33, 33, max = 255, alpha = 175, names = \"red_custom_t\")"
   ]
  },
  {
   "cell_type": "code",
   "execution_count": null,
   "metadata": {},
   "outputs": [],
   "source": [
    "map('world',col='gray45', border= \"gray45\", fill=TRUE)\n",
    "points(AG538K21abund_coord$Lon, AG538K21abund_coord$Lat, pch=21, col=red_custom, bg=red_custom_t, cex=10*100*2.54*AG538K21abund_coord$prop_total_MG_bp_recruited_per_SAG_mbp)\n",
    "\n",
    "#scale 0.5%\n",
    "points(140, -74, pch=21, col=red_custom, bg=\"white\", cex=5)"
   ]
  },
  {
   "cell_type": "markdown",
   "metadata": {},
   "source": [
    "*Disclaimer: I cannot figure out how to adjust the size of the map in the notebook. But it looks ok exported. Use this sequence of command to export any of the other figures."
   ]
  },
  {
   "cell_type": "code",
   "execution_count": null,
   "metadata": {},
   "outputs": [],
   "source": [
    "# make an output directory for your plot (if there is not any)\n",
    "dir.create(output_figures)\n",
    "# open a pdf file\n",
    "pdf(\"output_figures/map.pdf\") \n",
    "# create the plot\n",
    "map('world',col='gray45', border= \"gray45\", fill=TRUE)\n",
    "points(AG538K21abund_coord$Lon, AG538K21abund_coord$Lat, pch=21, col=red_custom, bg=red_custom_t, cex=10*100*2.54*AG538K21abund_coord$prop_total_MG_bp_recruited_per_SAG_mbp)\n",
    "# close the pdf file\n",
    "dev.off() "
   ]
  },
  {
   "cell_type": "markdown",
   "metadata": {},
   "source": [
    "I am certain that you are going to learn better ways to plot data on the maps. Consider the abundance of a specific taxon or group as a variable and try plotting it using the tools you will learn. "
   ]
  },
  {
   "cell_type": "code",
   "execution_count": null,
   "metadata": {},
   "outputs": [],
   "source": []
  }
 ],
 "metadata": {
  "kernelspec": {
   "display_name": "R",
   "language": "R",
   "name": "ir"
  },
  "language_info": {
   "codemirror_mode": "r",
   "file_extension": ".r",
   "mimetype": "text/x-r-source",
   "name": "R",
   "pygments_lexer": "r",
   "version": "3.6.3"
  }
 },
 "nbformat": 4,
 "nbformat_minor": 4
}
